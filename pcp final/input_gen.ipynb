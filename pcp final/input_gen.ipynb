{
 "cells": [
  {
   "cell_type": "code",
   "execution_count": 4,
   "metadata": {},
   "outputs": [
    {
     "name": "stdout",
     "output_type": "stream",
     "text": [
      "25000 points written to input.txt.\n"
     ]
    }
   ],
   "source": [
    "import random\n",
    "\n",
    "# Generate 10,000 random points in the range [0, 1000]\n",
    "num_points = 25000\n",
    "filename = \"input.txt\"\n",
    "\n",
    "with open(filename, \"w\") as f:\n",
    "    for _ in range(num_points):\n",
    "        x = random.uniform(0, 1000)\n",
    "        y = random.uniform(0, 1000)\n",
    "        f.write(f\"{x} {y}\\n\")\n",
    "\n",
    "print(f\"{num_points} points written to {filename}.\")\n"
   ]
  }
 ],
 "metadata": {
  "kernelspec": {
   "display_name": "Python 3",
   "language": "python",
   "name": "python3"
  },
  "language_info": {
   "codemirror_mode": {
    "name": "ipython",
    "version": 3
   },
   "file_extension": ".py",
   "mimetype": "text/x-python",
   "name": "python",
   "nbconvert_exporter": "python",
   "pygments_lexer": "ipython3",
   "version": "3.12.9"
  }
 },
 "nbformat": 4,
 "nbformat_minor": 2
}
